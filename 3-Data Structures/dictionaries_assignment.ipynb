{
 "cells": [
  {
   "cell_type": "markdown",
   "metadata": {},
   "source": [
    "# Module 3: Data Structures Assignments\n",
    "## Lesson 3.4: Dictionaries\n",
    "### Assignment 1: Creating and Accessing Dictionaries\n",
    "\n",
    "Create a dictionary with the first 10 positive integers as keys and their squares as values. Print the dictionary.\n"
   ]
  },
  {
   "cell_type": "code",
   "execution_count": 2,
   "id": "ca1e422e",
   "metadata": {},
   "outputs": [
    {
     "name": "stdout",
     "output_type": "stream",
     "text": [
      "{1: 1, 2: 4, 3: 9, 4: 16, 5: 25, 6: 36, 7: 49, 8: 64, 9: 81, 10: 100}\n"
     ]
    }
   ],
   "source": [
    "dict1={x:x**2 for x in range(1,11)}\n",
    "print(dict1)"
   ]
  },
  {
   "cell_type": "markdown",
   "id": "62e04c89",
   "metadata": {},
   "source": [
    "\n",
    "### Assignment 2: Accessing Dictionary Elements\n",
    "\n",
    "Print the value of the key 5 and the keys of the dictionary created in Assignment 1.\n"
   ]
  },
  {
   "cell_type": "code",
   "execution_count": 3,
   "id": "9e5707ff",
   "metadata": {},
   "outputs": [
    {
     "name": "stdout",
     "output_type": "stream",
     "text": [
      "25\n"
     ]
    }
   ],
   "source": [
    "print(dict1[5])"
   ]
  },
  {
   "cell_type": "markdown",
   "id": "5e0311a0",
   "metadata": {},
   "source": [
    "\n",
    "### Assignment 3: Dictionary Methods\n",
    "\n",
    "Add a new key-value pair (11, 121) to the dictionary created in Assignment 1 and then remove the key-value pair with key 1. Print the modified dictionary.\n"
   ]
  },
  {
   "cell_type": "code",
   "execution_count": 9,
   "id": "a5d0ae2d",
   "metadata": {},
   "outputs": [
    {
     "name": "stdout",
     "output_type": "stream",
     "text": [
      "{1: 1, 2: 4, 3: 9, 4: 16, 5: 25, 6: 36, 7: 49, 8: 64, 9: 81, 10: 100, 11: 121}\n"
     ]
    }
   ],
   "source": [
    "dict1[11]=121\n",
    "print(dict1)"
   ]
  },
  {
   "cell_type": "markdown",
   "id": "dd1acc85",
   "metadata": {},
   "source": [
    "\n",
    "### Assignment 4: Iterating Over Dictionaries\n",
    "\n",
    "Iterate over the dictionary created in Assignment 1 and print each key-value pair.\n"
   ]
  },
  {
   "cell_type": "code",
   "execution_count": 13,
   "id": "3c8aa75c",
   "metadata": {},
   "outputs": [
    {
     "name": "stdout",
     "output_type": "stream",
     "text": [
      "1:1\n",
      "2:4\n",
      "3:9\n",
      "4:16\n",
      "5:25\n",
      "6:36\n",
      "7:49\n",
      "8:64\n",
      "9:81\n",
      "10:100\n",
      "11:121\n"
     ]
    }
   ],
   "source": [
    "for key,value in dict1.items():\n",
    "    print(f\"{key}:{value}\")"
   ]
  },
  {
   "cell_type": "markdown",
   "id": "f3a53b41",
   "metadata": {},
   "source": [
    "\n",
    "### Assignment 5: Dictionary Comprehensions\n",
    "\n",
    "Create a new dictionary containing the cubes of the first 10 positive integers using a dictionary comprehension. Print the new dictionary.\n"
   ]
  },
  {
   "cell_type": "code",
   "execution_count": 14,
   "id": "af4d39c3",
   "metadata": {},
   "outputs": [
    {
     "name": "stdout",
     "output_type": "stream",
     "text": [
      "{1: 1, 2: 8, 3: 27, 4: 64, 5: 125, 6: 216, 7: 343, 8: 512, 9: 729, 10: 1000}\n"
     ]
    }
   ],
   "source": [
    "dict1={x:x**3 for x in range(1,11)}\n",
    "print(dict1)"
   ]
  },
  {
   "cell_type": "markdown",
   "id": "84f87403",
   "metadata": {},
   "source": [
    "\n",
    "### Assignment 6: Merging Dictionaries\n",
    "\n",
    "Create two dictionaries: one with keys as the first 5 positive integers and values as their squares, and another with keys as the next 5 positive integers and values as their squares. Merge these dictionaries into a single dictionary and print it.\n"
   ]
  },
  {
   "cell_type": "code",
   "execution_count": 18,
   "id": "91443121",
   "metadata": {},
   "outputs": [
    {
     "name": "stdout",
     "output_type": "stream",
     "text": [
      "{1: 1, 2: 4, 3: 9, 4: 16, 5: 25}\n",
      "{6: 36, 7: 49, 8: 64, 9: 81, 10: 100}\n",
      "{1: 1, 2: 4, 3: 9, 4: 16, 5: 25, 6: 36, 7: 49, 8: 64, 9: 81, 10: 100}\n"
     ]
    }
   ],
   "source": [
    "dict1={x:x**2 for x in range(1,6)}\n",
    "dict2={x:x**2 for x in range(6,11)}\n",
    "print(dict1)\n",
    "print(dict2)\n",
    "merged_dict={**dict1,**dict2}\n",
    "print(merged_dict)"
   ]
  },
  {
   "cell_type": "markdown",
   "id": "ac3e1780",
   "metadata": {},
   "source": [
    "\n",
    "### Assignment 7: Nested Dictionaries\n",
    "\n",
    "Create a nested dictionary representing a student with keys 'name', 'age', 'grades', where 'grades' is another dictionary with keys 'math', 'science', and 'english'. Print the nested dictionary.\n"
   ]
  },
  {
   "cell_type": "code",
   "execution_count": 21,
   "id": "c72655c0",
   "metadata": {},
   "outputs": [
    {
     "name": "stdout",
     "output_type": "stream",
     "text": [
      "{'name': 'Anurag', 'age': 25, 'grades': {'math': 85, 'science': 80, 'english': 88}}\n",
      "Anurag\n",
      "25\n",
      "{'math': 85, 'science': 80, 'english': 88}\n",
      "85\n"
     ]
    }
   ],
   "source": [
    "student={'name':'Anurag','age':25,'grades':{'math':85,'science':80,'english':88}}\n",
    "print(student)\n",
    "print(student['name'])\n",
    "print(student['age'])\n",
    "print(student['grades'])\n",
    "print(student['grades']['math'])"
   ]
  },
  {
   "cell_type": "markdown",
   "id": "f417634b",
   "metadata": {},
   "source": [
    "\n",
    "### Assignment 8: Dictionary of Lists\n",
    "\n",
    "Create a dictionary where the keys are the first 5 positive integers and the values are lists containing the first 5 multiples of the key. Print the dictionary.\n"
   ]
  },
  {
   "cell_type": "code",
   "execution_count": 23,
   "id": "554e5638",
   "metadata": {},
   "outputs": [
    {
     "name": "stdout",
     "output_type": "stream",
     "text": [
      "{1: [1, 2, 3, 4, 5], 2: [2, 4, 6, 8, 10], 3: [3, 6, 9, 12, 15], 4: [4, 8, 12, 16, 20], 5: [5, 10, 15, 20, 25]}\n"
     ]
    }
   ],
   "source": [
    "dict1={i:[i*x for x in range(1,6)] for i in range(1,6)}\n",
    "print(dict1)"
   ]
  },
  {
   "cell_type": "markdown",
   "id": "51cb1b44",
   "metadata": {},
   "source": [
    "\n",
    "### Assignment 9: Dictionary of Tuples\n",
    "\n",
    "Create a dictionary where the keys are the first 5 positive integers and the values are tuples containing the key and its square. Print the dictionary.\n"
   ]
  },
  {
   "cell_type": "code",
   "execution_count": 28,
   "id": "296c1f00",
   "metadata": {},
   "outputs": [
    {
     "name": "stdout",
     "output_type": "stream",
     "text": [
      "{1: (1, 1), 2: (2, 4), 3: (3, 9), 4: (4, 16), 5: (5, 25)}\n"
     ]
    }
   ],
   "source": [
    "dict1={x:(x,x**2) for x in range(1,6)}\n",
    "print(dict1)"
   ]
  },
  {
   "cell_type": "markdown",
   "id": "2b58101c",
   "metadata": {},
   "source": [
    "\n",
    "### Assignment 10: Dictionary and List Conversion\n",
    "\n",
    "Create a dictionary with the first 5 positive integers as keys and their squares as values. Convert the dictionary to a list of tuples and print it.\n"
   ]
  },
  {
   "cell_type": "code",
   "execution_count": 31,
   "id": "ef9eb4c8",
   "metadata": {},
   "outputs": [
    {
     "name": "stdout",
     "output_type": "stream",
     "text": [
      "{1: 1, 2: 4, 3: 9, 4: 16, 5: 25}\n",
      "[(1, 1), (2, 4), (3, 9), (4, 16), (5, 25)]\n"
     ]
    }
   ],
   "source": [
    "dict1={x:x**2 for x in range(1,6)}\n",
    "print(dict1)\n",
    "lst=list(dict1.items())\n",
    "print(lst)\n"
   ]
  },
  {
   "cell_type": "markdown",
   "id": "7108d948",
   "metadata": {},
   "source": [
    "\n",
    "### Assignment 11: Dictionary Filtering\n",
    "\n",
    "Create a dictionary with the first 10 positive integers as keys and their squares as values. Create a new dictionary containing only the key-value pairs where the key is even. Print the new dictionary.\n"
   ]
  },
  {
   "cell_type": "code",
   "execution_count": 33,
   "id": "982d31d0",
   "metadata": {},
   "outputs": [
    {
     "name": "stdout",
     "output_type": "stream",
     "text": [
      "{1: 1, 2: 4, 3: 9, 4: 16, 5: 25, 6: 36, 7: 49, 8: 64, 9: 81, 10: 100}\n",
      "{2: 4, 4: 16, 6: 36, 8: 64, 10: 100}\n"
     ]
    }
   ],
   "source": [
    "dict1={x:x**2 for x in range(1,11)}\n",
    "print(dict1)\n",
    "dict2={x:x**2 for x in range(1,11) if x%2==0}\n",
    "print(dict2)"
   ]
  },
  {
   "cell_type": "markdown",
   "id": "8a737202",
   "metadata": {},
   "source": [
    "\n",
    "### Assignment 12: Dictionary Key and Value Transformation\n",
    "\n",
    "Create a dictionary with the first 5 positive integers as keys and their squares as values. Create a new dictionary with keys and values swapped. Print the new dictionary.\n"
   ]
  },
  {
   "cell_type": "code",
   "execution_count": 34,
   "id": "ddcade4c",
   "metadata": {},
   "outputs": [
    {
     "name": "stdout",
     "output_type": "stream",
     "text": [
      "{1: 1, 4: 2, 9: 3, 16: 4, 25: 5}\n"
     ]
    }
   ],
   "source": [
    "dict1={x:x**2 for x in range(1,6)}\n",
    "swapped_dict={v:k for k,v in dict1.items()}\n",
    "print(swapped_dict)"
   ]
  },
  {
   "cell_type": "markdown",
   "id": "bd1d9d21",
   "metadata": {},
   "source": [
    "\n",
    "### Assignment 13: Default Dictionary\n",
    "\n",
    "Create a default dictionary where each key has a default value of an empty list. Add some elements to the lists and print the dictionary.\n"
   ]
  },
  {
   "cell_type": "code",
   "execution_count": 35,
   "id": "c722173e",
   "metadata": {},
   "outputs": [
    {
     "name": "stdout",
     "output_type": "stream",
     "text": [
      "defaultdict(<class 'list'>, {1: [10, 20, 30], 2: [40], 3: [50, 60]})\n"
     ]
    }
   ],
   "source": [
    "from collections import defaultdict\n",
    "\n",
    "# Create a default dictionary where each key has a default value of an empty list\n",
    "default_dict = defaultdict(list)\n",
    "\n",
    "# Add some elements to the lists\n",
    "default_dict[1].extend([10, 20, 30])\n",
    "default_dict[2].append(40)\n",
    "default_dict[3].extend([50, 60])\n",
    "\n",
    "# Print the dictionary\n",
    "print(default_dict)"
   ]
  },
  {
   "cell_type": "markdown",
   "id": "0209dcf5",
   "metadata": {},
   "source": [
    "\n",
    "### Assignment 14: Counting with Dictionaries\n",
    "\n",
    "Write a function that takes a string and returns a dictionary with the count of each character in the string. Print the dictionary.\n"
   ]
  },
  {
   "cell_type": "code",
   "execution_count": 51,
   "id": "9314ec9d",
   "metadata": {},
   "outputs": [
    {
     "name": "stdout",
     "output_type": "stream",
     "text": [
      "{'i': 2, 'n': 1, 'd': 1, 'a': 1}\n"
     ]
    }
   ],
   "source": [
    "def counting_with_dict(str):\n",
    "    d1={}\n",
    "    count=0\n",
    "    for i in str:\n",
    "        if i in d1:\n",
    "            count+=1\n",
    "        else:\n",
    "            count=1\n",
    "        d1[i]=count\n",
    "    return d1\n",
    "\n",
    "str1=\"india\"\n",
    "dict1=counting_with_dict(str1)\n",
    "print(dict1)\n"
   ]
  },
  {
   "cell_type": "markdown",
   "id": "db7c2a2f",
   "metadata": {},
   "source": [
    "\n",
    "### Assignment 15: Dictionary and JSON\n",
    "\n",
    "Create a dictionary representing a book with keys 'title', 'author', 'year', and 'genre'. Convert the dictionary to a JSON string and print it."
   ]
  },
  {
   "cell_type": "code",
   "execution_count": 53,
   "id": "b76076f4",
   "metadata": {},
   "outputs": [
    {
     "name": "stdout",
     "output_type": "stream",
     "text": [
      "{\"title\": \"Knowledge\", \"author\": \"krishna\", \"year\": 2000, \"genre\": \"Biography\"}\n"
     ]
    }
   ],
   "source": [
    "import json\n",
    "\n",
    "# Convert the dictionary `dict1` to a JSON string and print it\n",
    "dict1={'title':'Knowledge','author':'krishna','year':2000,'genre':'Biography'}\n",
    "json_string = json.dumps(dict1)\n",
    "print(json_string)"
   ]
  },
  {
   "cell_type": "code",
   "execution_count": null,
   "id": "db2df32d",
   "metadata": {},
   "outputs": [],
   "source": []
  }
 ],
 "metadata": {
  "kernelspec": {
   "display_name": "Python 3",
   "language": "python",
   "name": "python3"
  },
  "language_info": {
   "codemirror_mode": {
    "name": "ipython",
    "version": 3
   },
   "file_extension": ".py",
   "mimetype": "text/x-python",
   "name": "python",
   "nbconvert_exporter": "python",
   "pygments_lexer": "ipython3",
   "version": "3.10.0"
  }
 },
 "nbformat": 4,
 "nbformat_minor": 5
}
