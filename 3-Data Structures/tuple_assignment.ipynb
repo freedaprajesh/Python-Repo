{
 "cells": [
  {
   "cell_type": "markdown",
   "id": "e32b975b",
   "metadata": {},
   "source": [
    "# Module 3: Data Structures Assignments\n",
    "## Lesson 3.2: Tuples\n",
    "### Assignment 1: Creating and Accessing Tuples\n",
    "\n",
    "Create a tuple with the first 10 positive integers. Print the tuple.\n"
   ]
  },
  {
   "cell_type": "code",
   "execution_count": 1,
   "id": "b5855b8b",
   "metadata": {},
   "outputs": [
    {
     "name": "stdout",
     "output_type": "stream",
     "text": [
      "(1, 2, 3, 4, 5, 6, 7, 8, 9, 10)\n"
     ]
    }
   ],
   "source": [
    "tup=tuple(i for i in range(1,11))\n",
    "print(tup)"
   ]
  },
  {
   "cell_type": "markdown",
   "id": "fdef5abf",
   "metadata": {},
   "source": [
    "\n",
    "### Assignment 2: Accessing Tuple Elements\n",
    "\n",
    "Print the first, middle, and last elements of the tuple created in Assignment 1.\n"
   ]
  },
  {
   "cell_type": "code",
   "execution_count": 2,
   "id": "c2f4fd2c",
   "metadata": {},
   "outputs": [
    {
     "name": "stdout",
     "output_type": "stream",
     "text": [
      "1\n",
      "6\n",
      "10\n"
     ]
    }
   ],
   "source": [
    "print(tup[0])\n",
    "print(tup[len(tup)//2])\n",
    "print(tup[-1])"
   ]
  },
  {
   "cell_type": "markdown",
   "id": "da5785ae",
   "metadata": {},
   "source": [
    "\n",
    "### Assignment 3: Tuple Slicing\n",
    "\n",
    "Print the first three elements, the last three elements, and the elements from index 2 to 5 of the tuple created in Assignment 1.\n"
   ]
  },
  {
   "cell_type": "code",
   "execution_count": 3,
   "id": "fd91fbbc",
   "metadata": {},
   "outputs": [
    {
     "name": "stdout",
     "output_type": "stream",
     "text": [
      "(1, 2, 3, 4)\n",
      "(8, 9, 10)\n",
      "(3, 4, 5)\n"
     ]
    }
   ],
   "source": [
    "print(tup[0:4])\n",
    "print(tup[7:])\n",
    "print(tup[2:5])"
   ]
  },
  {
   "cell_type": "markdown",
   "id": "6afab2bc",
   "metadata": {},
   "source": [
    "\n",
    "### Assignment 4: Nested Tuples\n",
    "\n",
    "Create a nested tuple representing a 3x3 matrix and print the matrix. Access and print the element at the second row and third column.\n"
   ]
  },
  {
   "cell_type": "code",
   "execution_count": 4,
   "id": "ae63ad71",
   "metadata": {},
   "outputs": [
    {
     "name": "stdout",
     "output_type": "stream",
     "text": [
      "6\n"
     ]
    }
   ],
   "source": [
    "matrix=((1,2,3),\n",
    "        (4,5,6),\n",
    "        (7,8,9))\n",
    "\n",
    "print(matrix[1][2])"
   ]
  },
  {
   "cell_type": "markdown",
   "id": "3ebe3848",
   "metadata": {},
   "source": [
    "\n",
    "### Assignment 5: Tuple Concatenation\n",
    "\n",
    "Concatenate two tuples: (1, 2, 3) and (4, 5, 6). Print the resulting tuple.\n"
   ]
  },
  {
   "cell_type": "code",
   "execution_count": 5,
   "id": "1894a11f",
   "metadata": {},
   "outputs": [
    {
     "name": "stdout",
     "output_type": "stream",
     "text": [
      "(1, 2, 3, 4, 5, 6)\n"
     ]
    }
   ],
   "source": [
    "t1=(1,2,3)\n",
    "t2=(4,5,6)\n",
    "concatenate=t1+t2\n",
    "print(concatenate)"
   ]
  },
  {
   "cell_type": "markdown",
   "id": "906e9cab",
   "metadata": {},
   "source": [
    "\n",
    "### Assignment 6: Tuple Methods\n",
    "\n",
    "Create a tuple with duplicate elements and count the occurrences of an element. Find the index of the first occurrence of an element in the tuple.\n"
   ]
  },
  {
   "cell_type": "code",
   "execution_count": 7,
   "id": "b1f59d49",
   "metadata": {},
   "outputs": [
    {
     "name": "stdout",
     "output_type": "stream",
     "text": [
      "3\n",
      "0\n"
     ]
    }
   ],
   "source": [
    "tup=(10,20,30,40,10,50,60,10)\n",
    "print(tup.count(10))\n",
    "print(tup.index(10))"
   ]
  },
  {
   "cell_type": "markdown",
   "id": "0092f3b9",
   "metadata": {},
   "source": [
    "\n",
    "### Assignment 7: Unpacking Tuples\n",
    "\n",
    "Create a tuple with 5 elements and unpack it into 5 variables. Print the variables.\n"
   ]
  },
  {
   "cell_type": "code",
   "execution_count": 8,
   "id": "20e21442",
   "metadata": {},
   "outputs": [
    {
     "name": "stdout",
     "output_type": "stream",
     "text": [
      "10\n",
      "20\n",
      "30\n",
      "40\n",
      "50\n"
     ]
    }
   ],
   "source": [
    "tup=(10,20,30,40,50)\n",
    "a,b,c,d,e=tup\n",
    "print(a)\n",
    "print(b)\n",
    "print(c)\n",
    "print(d)\n",
    "print(e)"
   ]
  },
  {
   "cell_type": "markdown",
   "id": "32462254",
   "metadata": {},
   "source": [
    "\n",
    "### Assignment 8: Tuple Conversion\n",
    "\n",
    "Convert a list of the first 5 positive integers to a tuple. Print the tuple.\n"
   ]
  },
  {
   "cell_type": "code",
   "execution_count": 9,
   "id": "577cc2da",
   "metadata": {},
   "outputs": [
    {
     "name": "stdout",
     "output_type": "stream",
     "text": [
      "(1, 12, 15, 18, 2)\n"
     ]
    }
   ],
   "source": [
    "lst=[1,12,15,18,2]\n",
    "tup=tuple(lst)\n",
    "print(tup)"
   ]
  },
  {
   "cell_type": "markdown",
   "id": "a4424976",
   "metadata": {},
   "source": [
    "\n",
    "### Assignment 9: Tuple of Tuples\n",
    "\n",
    "Create a tuple containing 3 tuples, each with 3 elements. Print the tuple of tuples.\n"
   ]
  },
  {
   "cell_type": "code",
   "execution_count": 10,
   "id": "5b91e43e",
   "metadata": {},
   "outputs": [
    {
     "name": "stdout",
     "output_type": "stream",
     "text": [
      "1 2 3 \n",
      "4 5 6 \n",
      "7 8 9 \n"
     ]
    }
   ],
   "source": [
    "tup=((1,2,3),\n",
    "    (4,5,6),\n",
    "    (7,8,9))\n",
    "for t in tup:\n",
    "    for i in t:\n",
    "        print(i,end=\" \")\n",
    "    print()"
   ]
  },
  {
   "cell_type": "markdown",
   "id": "7d92941b",
   "metadata": {},
   "source": [
    "\n",
    "### Assignment 10: Tuple and List\n",
    "\n",
    "Create a tuple with the first 5 positive integers. Convert it to a list, append the number 6, and convert it back to a tuple. Print the resulting tuple.\n"
   ]
  },
  {
   "cell_type": "code",
   "execution_count": 12,
   "id": "a5526b77",
   "metadata": {},
   "outputs": [
    {
     "name": "stdout",
     "output_type": "stream",
     "text": [
      "(1, 2, 3, 4, 5, 6)\n"
     ]
    }
   ],
   "source": [
    "tup=(1,2,3,4,5)\n",
    "l1=list(tup)\n",
    "l1.append(6)\n",
    "tup=tuple(l1)\n",
    "print(tup)"
   ]
  },
  {
   "cell_type": "markdown",
   "id": "5cab0865",
   "metadata": {},
   "source": [
    "\n",
    "### Assignment 11: Tuple and String\n",
    "\n",
    "Create a tuple with the characters of a string. Join the tuple elements into a single string. Print the string.\n"
   ]
  },
  {
   "cell_type": "code",
   "execution_count": 14,
   "id": "68bbb592",
   "metadata": {},
   "outputs": [
    {
     "name": "stdout",
     "output_type": "stream",
     "text": [
      "('i', 'n', 'd', 'i', 'a')\n",
      "india\n"
     ]
    }
   ],
   "source": [
    "tup=('i','n','d','i','a')\n",
    "print(tup)\n",
    "result = ''.join(tup)\n",
    "print(result)\n"
   ]
  },
  {
   "cell_type": "markdown",
   "id": "9602b14a",
   "metadata": {},
   "source": [
    "\n",
    "### Assignment 12: Tuple and Dictionary\n",
    "\n",
    "Create a dictionary with tuple keys and integer values. Print the dictionary.\n"
   ]
  },
  {
   "cell_type": "code",
   "execution_count": 17,
   "id": "bb3873b1",
   "metadata": {},
   "outputs": [
    {
     "name": "stdout",
     "output_type": "stream",
     "text": [
      "{(1, 2): 88, (3, 4): 99, (5, 6): 45}\n"
     ]
    }
   ],
   "source": [
    "dic={(1,2):88,(3,4):99,(5,6):45}\n",
    "print(dic)"
   ]
  },
  {
   "cell_type": "markdown",
   "id": "eb60736e",
   "metadata": {},
   "source": [
    "\n",
    "### Assignment 13: Nested Tuple Iteration\n",
    "\n",
    "Create a nested tuple and iterate over the elements, printing each element.\n"
   ]
  },
  {
   "cell_type": "code",
   "execution_count": 18,
   "id": "1cc8ba8e",
   "metadata": {},
   "outputs": [
    {
     "name": "stdout",
     "output_type": "stream",
     "text": [
      "1 2 3 \n",
      "4 5 6 \n",
      "7 8 9 \n"
     ]
    }
   ],
   "source": [
    "tup=((1,2,3),\n",
    "    (4,5,6),\n",
    "    (7,8,9))\n",
    "for t in tup:\n",
    "    for i in t:\n",
    "        print(i,end=\" \")\n",
    "    print()"
   ]
  },
  {
   "cell_type": "markdown",
   "id": "1ca8de66",
   "metadata": {},
   "source": [
    "\n",
    "### Assignment 14: Tuple and Set\n",
    "\n",
    "Create a tuple with duplicate elements. Convert it to a set to remove duplicates and print the resulting set.\n"
   ]
  },
  {
   "cell_type": "code",
   "execution_count": 19,
   "id": "054e1dd7",
   "metadata": {},
   "outputs": [
    {
     "name": "stdout",
     "output_type": "stream",
     "text": [
      "{1, 2, 3, 4, 5, 9}\n"
     ]
    }
   ],
   "source": [
    "tup=(1,2,2,3,4,5,5,9)\n",
    "t=set(tup)\n",
    "print(t)"
   ]
  },
  {
   "cell_type": "markdown",
   "id": "4fe7ad45",
   "metadata": {},
   "source": [
    "\n",
    "### Assignment 15: Tuple Functions\n",
    "\n",
    "Write functions that take a tuple and return the minimum, maximum, and sum of the elements. Print the results for a sample tuple."
   ]
  },
  {
   "cell_type": "code",
   "execution_count": 22,
   "metadata": {},
   "outputs": [
    {
     "name": "stdout",
     "output_type": "stream",
     "text": [
      "Minimum: 1\n",
      "Maximum: 5\n",
      "Sum: 15\n"
     ]
    }
   ],
   "source": [
    "def min_in_tuple(tup):\n",
    "    return min(tup)\n",
    "\n",
    "def max_in_tuple(tup):\n",
    "    return max(tup)\n",
    "\n",
    "def sum_of_tuple(tup):\n",
    "    return sum(tup)\n",
    "\n",
    "tup=(1,2,3,4,5)\n",
    "print(\"Minimum:\",min_in_tuple(tup))\n",
    "print(\"Maximum:\",max_in_tuple(tup))\n",
    "print(\"Sum:\",sum_of_tuple(tup))"
   ]
  },
  {
   "cell_type": "code",
   "execution_count": null,
   "id": "06c62307",
   "metadata": {},
   "outputs": [],
   "source": []
  }
 ],
 "metadata": {
  "kernelspec": {
   "display_name": "Python 3",
   "language": "python",
   "name": "python3"
  },
  "language_info": {
   "codemirror_mode": {
    "name": "ipython",
    "version": 3
   },
   "file_extension": ".py",
   "mimetype": "text/x-python",
   "name": "python",
   "nbconvert_exporter": "python",
   "pygments_lexer": "ipython3",
   "version": "3.10.0"
  }
 },
 "nbformat": 4,
 "nbformat_minor": 5
}
