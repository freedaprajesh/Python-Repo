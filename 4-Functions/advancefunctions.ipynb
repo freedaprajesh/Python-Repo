{
 "cells": [
  {
   "cell_type": "markdown",
   "metadata": {},
   "source": [
    "# Module 4: Advanced Functions Assignments\n",
    "## Lesson 4.1: Defining Functions\n",
    "### Assignment 1: Fibonacci Sequence with Memoization\n",
    "\n",
    "Define a recursive function to calculate the nth Fibonacci number using memoization. Test the function with different inputs.\n"
   ]
  },
  {
   "cell_type": "code",
   "execution_count": 6,
   "id": "1fcec7d5",
   "metadata": {},
   "outputs": [
    {
     "name": "stdout",
     "output_type": "stream",
     "text": [
      "5\n"
     ]
    }
   ],
   "source": [
    "def fib_number(n):\n",
    "    if n<=1:\n",
    "        return 1\n",
    "    else:\n",
    "        return fib_number(n-1)+fib_number(n-2)\n",
    "\n",
    "n=int(input(\"Enter a number:\"))\n",
    "fib=fib_number(n)\n",
    "print(fib)"
   ]
  },
  {
   "cell_type": "markdown",
   "id": "32de1938",
   "metadata": {},
   "source": [
    "\n",
    "### Assignment 2: Function with Nested Default Arguments\n",
    "\n",
    "Define a function that takes two arguments, a and b, where b is a dictionary with a default value of an empty dictionary. The function should add a new key-value pair to the dictionary and return it. Test the function with different inputs.\n"
   ]
  },
  {
   "cell_type": "code",
   "execution_count": 1,
   "id": "27054630",
   "metadata": {},
   "outputs": [
    {
     "name": "stdout",
     "output_type": "stream",
     "text": [
      "{'key1': 1}\n",
      "{'key1': 1, 'key2': 2}\n"
     ]
    }
   ],
   "source": [
    "def add_to_dict(a, b=None):\n",
    "    if b is None:\n",
    "        b = {}\n",
    "    b[a] = len(b) + 1\n",
    "    return b\n",
    "\n",
    "# Test the function\n",
    "result = add_to_dict('key1')\n",
    "print(result)\n",
    "\n",
    "result = add_to_dict('key2', result)\n",
    "print(result)"
   ]
  },
  {
   "cell_type": "markdown",
   "id": "fe807ebb",
   "metadata": {},
   "source": [
    "\n",
    "### Assignment 3: Function with Variable Keyword Arguments\n",
    "\n",
    "Define a function that takes a variable number of keyword arguments and returns a dictionary containing only those key-value pairs where the value is an integer. Test the function with different inputs.\n"
   ]
  },
  {
   "cell_type": "code",
   "execution_count": 5,
   "id": "255283f0",
   "metadata": {},
   "outputs": [
    {
     "name": "stdout",
     "output_type": "stream",
     "text": [
      "{'name': 'Anuj', 'age': 22}\n"
     ]
    }
   ],
   "source": [
    "def f1(**kwargs):\n",
    "    dict1={k:v for k,v in kwargs.items() }\n",
    "    return dict1\n",
    "\n",
    "d1=f1(name=\"Anuj\",age=22)\n",
    "print(d1)\n"
   ]
  },
  {
   "cell_type": "markdown",
   "id": "0546a222",
   "metadata": {},
   "source": [
    "\n",
    "### Assignment 4: Function with Callback\n",
    "\n",
    "Define a function that takes another function as a callback and a list of integers. The function should apply the callback to each integer in the list and return a new list with the results. Test with different callback functions.\n"
   ]
  },
  {
   "cell_type": "code",
   "execution_count": 6,
   "id": "a2da0158",
   "metadata": {},
   "outputs": [
    {
     "name": "stdout",
     "output_type": "stream",
     "text": [
      "Original List: [1, 2, 3, 4, 5]\n",
      "Square: [1, 4, 9, 16, 25]\n",
      "Double: [2, 4, 6, 8, 10]\n",
      "Increment: [2, 3, 4, 5, 6]\n"
     ]
    }
   ],
   "source": [
    "# Function that takes a callback and a list of integers\n",
    "def apply_callback(callback, numbers):\n",
    "    return [callback(num) for num in numbers]\n",
    "\n",
    "# Callback functions\n",
    "def square(x):\n",
    "    return x * x\n",
    "\n",
    "def double(x):\n",
    "    return x * 2\n",
    "\n",
    "def increment(x):\n",
    "    return x + 1\n",
    "\n",
    "# Test list\n",
    "nums = [1, 2, 3, 4, 5]\n",
    "\n",
    "# Applying different callbacks\n",
    "print(\"Original List:\", nums)\n",
    "print(\"Square:\", apply_callback(square, nums))        # [1, 4, 9, 16, 25]\n",
    "print(\"Double:\", apply_callback(double, nums))        # [2, 4, 6, 8, 10]\n",
    "print(\"Increment:\", apply_callback(increment, nums))  # [2, 3, 4, 5, 6]\n"
   ]
  },
  {
   "cell_type": "markdown",
   "id": "69514c73",
   "metadata": {},
   "source": [
    "\n",
    "### Assignment 5: Function that Returns a Function\n",
    "\n",
    "Define a function that returns another function. The returned function should take an integer and return its square. Test the returned function with different inputs.\n"
   ]
  },
  {
   "cell_type": "code",
   "execution_count": 7,
   "id": "46c519e9",
   "metadata": {},
   "outputs": [
    {
     "name": "stdout",
     "output_type": "stream",
     "text": [
      "Squre: 25\n"
     ]
    }
   ],
   "source": [
    "def return_function(x):\n",
    "    return squre(x)\n",
    "\n",
    "def squre(x):\n",
    "    return x**2\n",
    "\n",
    "x=int(input(\"Enter a number\"))\n",
    "print(\"Squre:\",return_function(x))\n"
   ]
  },
  {
   "cell_type": "markdown",
   "id": "63693183",
   "metadata": {},
   "source": [
    "\n",
    "### Assignment 6: Function with Decorators\n",
    "\n",
    "Define a function that calculates the time taken to execute another function. Apply this decorator to a function that performs a complex calculation. Test the decorated function with different inputs.\n"
   ]
  },
  {
   "cell_type": "code",
   "execution_count": 8,
   "id": "36184591",
   "metadata": {},
   "outputs": [
    {
     "name": "stdout",
     "output_type": "stream",
     "text": [
      "⏱️ Execution Time: 0.0000 seconds\n",
      "Result: 333383335000\n",
      "⏱️ Execution Time: 0.0386 seconds\n",
      "Result: 41667916675000\n",
      "⏱️ Execution Time: 0.0732 seconds\n",
      "Result: 333338333350000\n"
     ]
    }
   ],
   "source": [
    "import time\n",
    "\n",
    "# Decorator to measure execution time\n",
    "def timer_decorator(func):\n",
    "    def wrapper(*args, **kwargs):\n",
    "        start_time = time.time()\n",
    "        result = func(*args, **kwargs)\n",
    "        end_time = time.time()\n",
    "        print(f\"⏱️ Execution Time: {end_time - start_time:.4f} seconds\")\n",
    "        return result\n",
    "    return wrapper\n",
    "\n",
    "# Function that simulates a complex calculation\n",
    "@timer_decorator\n",
    "def complex_calculation(n):\n",
    "    total = 0\n",
    "    for i in range(1, n + 1):\n",
    "        total += i ** 2  # square of each number\n",
    "    return total\n",
    "\n",
    "# Testing with different inputs\n",
    "print(\"Result:\", complex_calculation(10000))\n",
    "print(\"Result:\", complex_calculation(50000))\n",
    "print(\"Result:\", complex_calculation(100000))\n"
   ]
  },
  {
   "cell_type": "markdown",
   "id": "0de01b47",
   "metadata": {},
   "source": [
    "\n",
    "### Assignment 7: Higher-Order Function for Filtering and Mapping\n",
    "\n",
    "Define a higher-order function that takes two functions, a filter function and a map function, along with a list of integers. The higher-order function should first filter the integers using the filter function and then apply the map function to the filtered integers. Test with different filter and map functions.\n"
   ]
  },
  {
   "cell_type": "code",
   "execution_count": 10,
   "id": "d75040a5",
   "metadata": {},
   "outputs": [
    {
     "name": "stdout",
     "output_type": "stream",
     "text": [
      "[4, 16]\n"
     ]
    }
   ],
   "source": [
    "def higher_order_function(filter_func,map_func,list1):\n",
    "    return [map_func(x) for x in list1 if filter_func(x)]\n",
    "\n",
    "print(higher_order_function(lambda x:x%2==0,lambda x:x**2 ,[1,2,3,4,5]))\n"
   ]
  },
  {
   "cell_type": "markdown",
   "id": "b1944763",
   "metadata": {},
   "source": [
    "\n",
    "### Assignment 8: Function Composition\n",
    "\n",
    "Define a function that composes two functions, f and g, such that the result is f(g(x)). Test with different functions f and g.\n"
   ]
  },
  {
   "cell_type": "code",
   "execution_count": 11,
   "id": "08857f86",
   "metadata": {},
   "outputs": [
    {
     "name": "stdout",
     "output_type": "stream",
     "text": [
      "9\n",
      "16\n"
     ]
    }
   ],
   "source": [
    "def compose(f,g):\n",
    "    return lambda x:f(g(x))\n",
    "\n",
    "f=lambda x:x**2\n",
    "g=lambda x:x+1\n",
    "h=compose(f,g)\n",
    "\n",
    "print(h(2))\n",
    "print(h(3))\n"
   ]
  },
  {
   "cell_type": "markdown",
   "id": "86636d3e",
   "metadata": {},
   "source": [
    "\n",
    "### Assignment 9: Partial Function Application\n",
    "\n",
    "Use the functools.partial function to create a new function that multiplies its input by 2. Test the new function with different inputs.\n"
   ]
  },
  {
   "cell_type": "code",
   "execution_count": 12,
   "id": "bde26d8d",
   "metadata": {},
   "outputs": [
    {
     "name": "stdout",
     "output_type": "stream",
     "text": [
      "6\n",
      "10\n"
     ]
    }
   ],
   "source": [
    "from functools import partial\n",
    "\n",
    "multiply_by_2 = partial(lambda x, y: x * y, 2)\n",
    "\n",
    "# Test\n",
    "print(multiply_by_2(3))  # 6\n",
    "print(multiply_by_2(5))  # 10"
   ]
  },
  {
   "cell_type": "markdown",
   "id": "29af9e85",
   "metadata": {},
   "source": [
    "\n",
    "### Assignment 10: Function with Error Handling\n",
    "\n",
    "Define a function that takes a list of integers and returns their average. The function should handle any errors that occur (e.g., empty list) and return None in such cases. Test with different inputs.\n"
   ]
  },
  {
   "cell_type": "code",
   "execution_count": 15,
   "id": "9eb34cb2",
   "metadata": {},
   "outputs": [
    {
     "name": "stdout",
     "output_type": "stream",
     "text": [
      "5.5\n",
      "None\n"
     ]
    }
   ],
   "source": [
    "def average(lst):\n",
    "    try:\n",
    "        return sum(lst) / len(lst)\n",
    "    except ZeroDivisionError:\n",
    "        return None\n",
    "\n",
    "list1=[1,2,3,4,5,6,7,8,9,10]\n",
    "print(average(list1))\n",
    "print(average([]))"
   ]
  },
  {
   "cell_type": "markdown",
   "id": "453eb3d6",
   "metadata": {},
   "source": [
    "\n",
    "### Assignment 11: Function with Generators\n",
    "\n",
    "Define a function that generates an infinite sequence of Fibonacci numbers. Test by printing the first 10 numbers in the sequence.\n"
   ]
  },
  {
   "cell_type": "code",
   "execution_count": 16,
   "id": "a4585909",
   "metadata": {},
   "outputs": [
    {
     "name": "stdout",
     "output_type": "stream",
     "text": [
      "0\n",
      "1\n",
      "1\n",
      "2\n",
      "3\n",
      "5\n",
      "8\n",
      "13\n",
      "21\n",
      "34\n"
     ]
    }
   ],
   "source": [
    "def fibonacci_generator():\n",
    "    a, b = 0, 1\n",
    "    while True:\n",
    "        yield a\n",
    "        a, b = b, a + b\n",
    "\n",
    "# Test\n",
    "fib_gen = fibonacci_generator()\n",
    "for _ in range(10):\n",
    "    print(next(fib_gen))"
   ]
  },
  {
   "cell_type": "markdown",
   "id": "20e4fd2c",
   "metadata": {},
   "source": [
    "\n",
    "### Assignment 12: Currying\n",
    "\n",
    "Define a curried function that takes three arguments, one at a time, and returns their product. Test the function by providing arguments one at a time.\n"
   ]
  },
  {
   "cell_type": "code",
   "execution_count": 17,
   "id": "e59cf6dd",
   "metadata": {},
   "outputs": [
    {
     "name": "stdout",
     "output_type": "stream",
     "text": [
      "24\n",
      "30\n"
     ]
    }
   ],
   "source": [
    "def curry_product(x):\n",
    "    def inner1(y):\n",
    "        def inner2(z):\n",
    "            return x * y * z\n",
    "        return inner2\n",
    "    return inner1\n",
    "\n",
    "# Test\n",
    "print(curry_product(2)(3)(4))  # 24\n",
    "print(curry_product(1)(5)(6))  # 30"
   ]
  },
  {
   "cell_type": "markdown",
   "id": "169efa64",
   "metadata": {},
   "source": [
    "\n",
    "### Assignment 13: Function with Context Manager\n",
    "\n",
    "Define a function that uses a context manager to write a list of integers to a file. The function should handle any errors that occur during file operations. Test with different lists.\n"
   ]
  },
  {
   "cell_type": "code",
   "execution_count": 18,
   "id": "cb565577",
   "metadata": {},
   "outputs": [],
   "source": [
    "def write_to_file(lst, filename):\n",
    "    try:\n",
    "        with open(filename, 'w') as f:\n",
    "            for num in lst:\n",
    "                f.write(f\"{num}\\n\")\n",
    "    except IOError as e:\n",
    "        print(f\"An error occurred: {e}\")\n",
    "\n",
    "# Test\n",
    "write_to_file([1, 2, 3, 4, 5], 'output.txt')"
   ]
  },
  {
   "cell_type": "markdown",
   "id": "74ac12e1",
   "metadata": {},
   "source": [
    "\n",
    "### Assignment 14: Function with Multiple Return Types\n",
    "\n",
    "Define a function that takes a list of mixed data types (integers, strings, and floats) and returns three lists: one containing all the integers, one containing all the strings, and one containing all the floats. Test with different inputs.\n"
   ]
  },
  {
   "cell_type": "code",
   "execution_count": 19,
   "id": "b021d348",
   "metadata": {},
   "outputs": [
    {
     "name": "stdout",
     "output_type": "stream",
     "text": [
      "([1, 2, 3, 4], [3.5, 4.0, 55.8], ['Anuj', 'India', 'Aisa'])\n"
     ]
    }
   ],
   "source": [
    "def func_with_multiple_return_type(lst):\n",
    "    int_lst,str_lst,float_lst=[],[],[]\n",
    "    for i in lst:\n",
    "        if type(i) is int:\n",
    "            int_lst.append(i)\n",
    "        elif type(i) is float:\n",
    "            float_lst.append(i)\n",
    "        else:\n",
    "            str_lst.append(i)\n",
    "    return int_lst,float_lst,str_lst\n",
    "\n",
    "print(func_with_multiple_return_type([1,2,3,4,\"Anuj\",\"India\",\"Aisa\",3.5,4.0,55.8]))"
   ]
  },
  {
   "cell_type": "markdown",
   "id": "988d0bd2",
   "metadata": {},
   "source": [
    "\n",
    "### Assignment 15: Function with State\n",
    "\n",
    "Define a function that maintains state between calls using a mutable default argument. The function should keep track of how many times it has been called. Test by calling the function multiple times."
   ]
  },
  {
   "cell_type": "code",
   "execution_count": 20,
   "metadata": {},
   "outputs": [
    {
     "name": "stdout",
     "output_type": "stream",
     "text": [
      "1\n",
      "2\n",
      "3\n"
     ]
    }
   ],
   "source": [
    "def call_counter(counter={'count': 0}):\n",
    "    counter['count'] += 1\n",
    "    return counter['count']\n",
    "\n",
    "# Test\n",
    "print(call_counter())  # 1\n",
    "print(call_counter())  # 2\n",
    "print(call_counter())  # 3"
   ]
  }
 ],
 "metadata": {
  "kernelspec": {
   "display_name": "Python 3",
   "language": "python",
   "name": "python3"
  },
  "language_info": {
   "codemirror_mode": {
    "name": "ipython",
    "version": 3
   },
   "file_extension": ".py",
   "mimetype": "text/x-python",
   "name": "python",
   "nbconvert_exporter": "python",
   "pygments_lexer": "ipython3",
   "version": "3.10.0"
  }
 },
 "nbformat": 4,
 "nbformat_minor": 5
}
