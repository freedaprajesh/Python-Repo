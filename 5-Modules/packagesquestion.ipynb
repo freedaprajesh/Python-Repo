{
 "cells": [
  {
   "cell_type": "markdown",
   "metadata": {},
   "source": [
    "# Module 5: Modules and Packages Assignments\n",
    "## Lesson 5.1: Importing Modules\n",
    "### Assignment 1: Importing and Using Modules\n",
    "\n",
    "Import the `math` module and use it to calculate the square root of 25 and the sine of 90 degrees.\n"
   ]
  },
  {
   "cell_type": "code",
   "execution_count": 7,
   "id": "c272351d",
   "metadata": {},
   "outputs": [
    {
     "name": "stdout",
     "output_type": "stream",
     "text": [
      "5.0\n",
      "1.0\n"
     ]
    }
   ],
   "source": [
    "import math\n",
    "print(math.sqrt(25))\n",
    "\n",
    "print(math.sin(math.radians(90)))"
   ]
  },
  {
   "cell_type": "markdown",
   "id": "2213e9db",
   "metadata": {},
   "source": [
    "\n",
    "### Assignment 2: Aliasing Modules\n",
    "\n",
    "Import the `datetime` module with an alias and use it to print the current date and time.\n"
   ]
  },
  {
   "cell_type": "code",
   "execution_count": 17,
   "id": "3c71be44",
   "metadata": {},
   "outputs": [
    {
     "name": "stdout",
     "output_type": "stream",
     "text": [
      "2025-04-13 09:52:16.672526\n"
     ]
    }
   ],
   "source": [
    "import datetime\n",
    "now=datetime.datetime.now()\n",
    "print(now)"
   ]
  },
  {
   "cell_type": "markdown",
   "id": "5c952c7c",
   "metadata": {},
   "source": [
    "\n",
    "### Assignment 3: Importing Specific Functions\n",
    "\n",
    "Import the `randint` function from the `random` module and use it to generate a random integer between 1 and 100.\n"
   ]
  },
  {
   "cell_type": "code",
   "execution_count": 19,
   "id": "af09fe0e",
   "metadata": {},
   "outputs": [
    {
     "name": "stdout",
     "output_type": "stream",
     "text": [
      "22\n"
     ]
    }
   ],
   "source": [
    "from random import randint\n",
    "print(randint(1,100))"
   ]
  },
  {
   "cell_type": "markdown",
   "id": "e3351f0b",
   "metadata": {},
   "source": [
    "\n",
    "### Assignment 4: Importing Multiple Functions\n",
    "\n",
    "Import the `sqrt` and `pow` functions from the `math` module and use them to calculate the square root of 16 and 2 raised to the power of 3.\n"
   ]
  },
  {
   "cell_type": "code",
   "execution_count": 21,
   "id": "78970b40",
   "metadata": {},
   "outputs": [
    {
     "name": "stdout",
     "output_type": "stream",
     "text": [
      "4.0\n",
      "8.0\n"
     ]
    }
   ],
   "source": [
    "from math import sqrt,pow\n",
    "print(sqrt(16))\n",
    "print(pow(2,3))"
   ]
  },
  {
   "cell_type": "markdown",
   "id": "9e661ae5",
   "metadata": {},
   "source": [
    "\n",
    "### Assignment 5: Handling Import Errors\n",
    "\n",
    "Write code that attempts to import a non-existent module and gracefully handles the import error by printing an error message.\n"
   ]
  },
  {
   "cell_type": "code",
   "execution_count": 22,
   "id": "308a3355",
   "metadata": {},
   "outputs": [
    {
     "name": "stdout",
     "output_type": "stream",
     "text": [
      "Error: Module not found!\n",
      "Details: No module named 'not_a_real_module'\n"
     ]
    }
   ],
   "source": [
    "try:\n",
    "    import not_a_real_module  # Ye module exist nahi karta\n",
    "except ImportError as e:\n",
    "    print(\"Error: Module not found!\")\n",
    "    print(\"Details:\", e)\n"
   ]
  },
  {
   "cell_type": "markdown",
   "id": "bc4808c5",
   "metadata": {},
   "source": [
    "\n",
    "## Lesson 5.2: Standard Library Overview\n",
    "### Assignment 6: Working with the `os` Module\n",
    "\n",
    "Use the `os` module to create a new directory, list the contents of the current directory, and remove the newly created directory.\n"
   ]
  },
  {
   "cell_type": "code",
   "execution_count": 23,
   "id": "131fc65e",
   "metadata": {},
   "outputs": [
    {
     "name": "stdout",
     "output_type": "stream",
     "text": [
      "Directory 'my_test_directory' created.\n",
      "\n",
      "Contents of current directory:\n",
      "- 5.1-import.ipynb\n",
      "- 5.2-Standardlibrary.ipynb\n",
      "- destination.txt\n",
      "- example.csv\n",
      "- my_test_directory\n",
      "- package\n",
      "- packagesquestion.ipynb\n",
      "- source.txt\n",
      "- test.py\n",
      "\n",
      "Directory 'my_test_directory' removed.\n"
     ]
    }
   ],
   "source": [
    "\n",
    "import os\n",
    "\n",
    "# 1. Create a new directory\n",
    "new_dir = \"my_test_directory\"\n",
    "os.mkdir(new_dir)\n",
    "print(f\"Directory '{new_dir}' created.\")\n",
    "\n",
    "# 2. List contents of the current directory\n",
    "print(\"\\nContents of current directory:\")\n",
    "for item in os.listdir():\n",
    "    print(\"-\", item)\n",
    "\n",
    "# 3. Remove the newly created directory\n",
    "os.rmdir(new_dir)\n",
    "print(f\"\\nDirectory '{new_dir}' removed.\")\n"
   ]
  },
  {
   "cell_type": "markdown",
   "id": "07d60616",
   "metadata": {},
   "source": [
    "\n",
    "### Assignment 7: Working with the `sys` Module\n",
    "\n",
    "Use the `sys` module to print the Python version currently in use and the command-line arguments passed to the script.\n"
   ]
  },
  {
   "cell_type": "code",
   "execution_count": 25,
   "id": "0fe491df",
   "metadata": {},
   "outputs": [
    {
     "name": "stdout",
     "output_type": "stream",
     "text": [
      "3.10.0 (tags/v3.10.0:b494f59, Oct  4 2021, 19:00:18) [MSC v.1929 64 bit (AMD64)]\n"
     ]
    }
   ],
   "source": [
    "import sys\n",
    "print(sys.version)"
   ]
  },
  {
   "cell_type": "markdown",
   "id": "fec99c69",
   "metadata": {},
   "source": [
    "\n",
    "### Assignment 8: Working with the `math` Module\n",
    "\n",
    "Use the `math` module to calculate the greatest common divisor (GCD) of two numbers and the factorial of a number.\n"
   ]
  },
  {
   "cell_type": "code",
   "execution_count": 28,
   "id": "0e19c700",
   "metadata": {},
   "outputs": [
    {
     "name": "stdout",
     "output_type": "stream",
     "text": [
      "7\n",
      "120\n"
     ]
    }
   ],
   "source": [
    "import math\n",
    "print(math.gcd(14,49))\n",
    "print(math.factorial(5))\n"
   ]
  },
  {
   "cell_type": "markdown",
   "id": "acb61765",
   "metadata": {},
   "source": [
    "\n",
    "### Assignment 9: Working with the `datetime` Module\n",
    "\n",
    "Use the `datetime` module to print the current date, calculate the date 100 days from today, and determine the day of the week for a given date.\n"
   ]
  },
  {
   "cell_type": "code",
   "execution_count": 35,
   "id": "0fd7e8b6",
   "metadata": {},
   "outputs": [
    {
     "name": "stdout",
     "output_type": "stream",
     "text": [
      "2025-04-13\n",
      "2025-07-22\n",
      "Friday\n"
     ]
    }
   ],
   "source": [
    "import datetime\n",
    "current_date=datetime.date.today()\n",
    "new_date=current_date+datetime.timedelta(100)\n",
    "print(current_date)\n",
    "print(new_date)\n",
    "\n",
    "given_date=datetime.date(2025,1,31)\n",
    "day=given_date.strftime(\"%A\")\n",
    "print(day)\n",
    "\n"
   ]
  },
  {
   "cell_type": "markdown",
   "id": "e5ee351a",
   "metadata": {},
   "source": [
    "\n",
    "### Assignment 10: Working with the `random` Module\n",
    "\n",
    "Use the `random` module to generate a list of 5 random numbers between 1 and 50 and shuffle the elements of a list.\n"
   ]
  },
  {
   "cell_type": "code",
   "execution_count": 39,
   "id": "d074f45d",
   "metadata": {},
   "outputs": [
    {
     "name": "stdout",
     "output_type": "stream",
     "text": [
      "[19, 1, 28, 17, 44]\n"
     ]
    }
   ],
   "source": [
    "import random\n",
    "lst=[]\n",
    "for i in range(1,6):\n",
    "    lst.append(random.randint(1,50))\n",
    "print(lst)"
   ]
  },
  {
   "cell_type": "markdown",
   "id": "1386f6c6",
   "metadata": {},
   "source": [
    "\n",
    "## Lesson 5.3: Creating and Using Packages\n",
    "### Assignment 11: Creating a Simple Package\n",
    "\n",
    "Create a package named `mypackage` with two modules: `module1` and `module2`. `module1` should contain a function that adds two numbers, and `module2` should contain a function that multiplies two numbers. Write code to use these functions.\n"
   ]
  },
  {
   "cell_type": "code",
   "execution_count": 2,
   "id": "d25d77e7",
   "metadata": {},
   "outputs": [
    {
     "name": "stdout",
     "output_type": "stream",
     "text": [
      "11\n",
      "30\n"
     ]
    }
   ],
   "source": [
    "from package.mypackage.module1 import add\n",
    "from package.mypackage.module2 import multiply\n",
    "print(add(5,6))\n",
    "print(multiply(5,6))"
   ]
  },
  {
   "cell_type": "markdown",
   "id": "11852f8a",
   "metadata": {},
   "source": [
    "\n",
    "### Assignment 12: Using `__init__.py`\n",
    "\n",
    "Modify the `mypackage` package to include an `__init__.py` file that imports the functions from `module1` and `module2`. Write code to use these functions.\n"
   ]
  },
  {
   "cell_type": "code",
   "execution_count": null,
   "id": "d8afe3de",
   "metadata": {},
   "outputs": [],
   "source": []
  },
  {
   "cell_type": "markdown",
   "id": "04180045",
   "metadata": {},
   "source": [
    "\n",
    "### Assignment 13: Importing from a Package\n",
    "\n",
    "Write code to import and use the functions from `mypackage` without explicitly importing `module1` and `module2`.\n"
   ]
  },
  {
   "cell_type": "code",
   "execution_count": 10,
   "id": "75d96c76",
   "metadata": {},
   "outputs": [
    {
     "name": "stdout",
     "output_type": "stream",
     "text": [
      "10\n",
      "25\n"
     ]
    }
   ],
   "source": [
    "from package.mypackage import *\n",
    "print(add(5,5))\n",
    "print(multiply(5,5))"
   ]
  },
  {
   "cell_type": "markdown",
   "id": "166df412",
   "metadata": {},
   "source": [
    "\n",
    "### Assignment 14: Relative Imports\n",
    "\n",
    "Create a subpackage named `subpackage` within `mypackage` and move `module2` into `subpackage`. Modify the import statements in `__init__.py` to use relative imports. Write code to use the functions from both modules.\n"
   ]
  },
  {
   "cell_type": "code",
   "execution_count": 14,
   "id": "90893352",
   "metadata": {},
   "outputs": [
    {
     "name": "stdout",
     "output_type": "stream",
     "text": [
      "11\n",
      "30\n"
     ]
    }
   ],
   "source": [
    "from package.mypackage import *\n",
    "print(add(5,6))\n",
    "print(multiply(5,6))\n"
   ]
  },
  {
   "cell_type": "markdown",
   "id": "a430b23b",
   "metadata": {},
   "source": [
    "\n",
    "### Assignment 15: Handling Package Import Errors\n",
    "\n",
    "Write code that attempts to import a non-existent function from `mypackage` and gracefully handles the import error by printing an error message."
   ]
  },
  {
   "cell_type": "code",
   "execution_count": 15,
   "id": "f3d143a8",
   "metadata": {},
   "outputs": [
    {
     "name": "stdout",
     "output_type": "stream",
     "text": [
      "Error: Function not found in the package!\n",
      "Details: cannot import name 'non_existent_function' from 'package.mypackage' (unknown location)\n"
     ]
    }
   ],
   "source": [
    "\n",
    "try:\n",
    "    from package.mypackage import non_existent_function\n",
    "except ImportError as e:\n",
    "    print(\"Error: Function not found in the package!\")\n",
    "    print(\"Details:\", e)"
   ]
  },
  {
   "cell_type": "code",
   "execution_count": null,
   "metadata": {},
   "outputs": [],
   "source": []
  }
 ],
 "metadata": {
  "kernelspec": {
   "display_name": "Python 3",
   "language": "python",
   "name": "python3"
  },
  "language_info": {
   "codemirror_mode": {
    "name": "ipython",
    "version": 3
   },
   "file_extension": ".py",
   "mimetype": "text/x-python",
   "name": "python",
   "nbconvert_exporter": "python",
   "pygments_lexer": "ipython3",
   "version": "3.10.0"
  }
 },
 "nbformat": 4,
 "nbformat_minor": 5
}
