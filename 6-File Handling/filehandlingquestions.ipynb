{
 "cells": [
  {
   "cell_type": "markdown",
   "metadata": {},
   "source": [
    "# Module: File Handling Assignments\n",
    "## Lesson: File Handling and Operations\n",
    "### Assignment 1: Reading a File\n",
    "\n",
    "Write a function that reads the contents of a file named `sample.txt` and prints each line.\n"
   ]
  },
  {
   "cell_type": "code",
   "execution_count": 12,
   "id": "686cf17d",
   "metadata": {},
   "outputs": [
    {
     "name": "stdout",
     "output_type": "stream",
     "text": [
      "hello world\n",
      "my name is anurag patkar\n",
      "welcome to the course\n",
      "hello world\n",
      "my name is anurag patkar\n",
      "welcome to the course\n"
     ]
    }
   ],
   "source": [
    "def read_file(filename):\n",
    "    with open(filename,'r') as file:\n",
    "        content=file.read()\n",
    "        print(content)\n",
    "\n",
    "def read_file_by_line(filename):\n",
    "    with open(filename,'r') as file:\n",
    "        for line in file:\n",
    "            print(line.strip())\n",
    "\n",
    "filename=\"sample.txt\"\n",
    "read_file(filename)\n",
    "read_file_by_line(filename)"
   ]
  },
  {
   "cell_type": "markdown",
   "id": "60e5c1a9",
   "metadata": {},
   "source": [
    "\n",
    "### Assignment 2: Writing to a File\n",
    "\n",
    "Write a function that writes a list of strings to a file named `output.txt`, with each string on a new line.\n"
   ]
  },
  {
   "cell_type": "code",
   "execution_count": 13,
   "id": "0c883f63",
   "metadata": {},
   "outputs": [
    {
     "name": "stdout",
     "output_type": "stream",
     "text": [
      "First line\n",
      "Second line\n",
      "Third line\n",
      "\n"
     ]
    }
   ],
   "source": [
    "def write(lst,filename):\n",
    "    with open(\"output.txt\",'w') as file:\n",
    "        file.writelines(lst)\n",
    "\n",
    "def read_file(filename):\n",
    "    with open(filename,'r') as file:\n",
    "        content=file.read()\n",
    "        print(content)\n",
    "\n",
    "lst=['First line\\n','Second line\\n','Third line\\n']\n",
    "write(lst,\"output.txt\")\n",
    "read_file(\"output.txt\")"
   ]
  },
  {
   "cell_type": "markdown",
   "id": "e29562d3",
   "metadata": {},
   "source": [
    "\n",
    "### Assignment 3: Copying a File\n",
    "\n",
    "Write a function that copies the contents of a file named `source.txt` to a new file named `destination.txt`.\n"
   ]
  },
  {
   "cell_type": "code",
   "execution_count": 14,
   "id": "5d7e99b0",
   "metadata": {},
   "outputs": [],
   "source": [
    "def copy_file(source, destination):\n",
    "    with open(source, 'r') as src:\n",
    "        with open(destination, 'w') as dest:\n",
    "            dest.write(src.read())\n",
    "\n",
    "copy_file(\"source.txt\",'destination.txt')\n"
   ]
  },
  {
   "cell_type": "markdown",
   "id": "182525cf",
   "metadata": {},
   "source": [
    "\n",
    "### Assignment 4: Appending to a File\n",
    "\n",
    "Write a function that appends a given string to the end of a file named `log.txt`.\n"
   ]
  },
  {
   "cell_type": "code",
   "execution_count": null,
   "id": "90e6b7a8",
   "metadata": {},
   "outputs": [],
   "source": [
    "def append(text,filename):\n",
    "    with open(filename,'a') as file:\n",
    "        file.write(text)\n",
    "    \n",
    "\n"
   ]
  },
  {
   "cell_type": "markdown",
   "id": "fa5fe4b0",
   "metadata": {},
   "source": [
    "\n",
    "### Assignment 5: Counting Words in a File\n",
    "\n",
    "Write a function that reads the contents of a file named `document.txt` and returns the number of words in the file.\n"
   ]
  },
  {
   "cell_type": "code",
   "execution_count": 15,
   "id": "c77b48d8",
   "metadata": {},
   "outputs": [
    {
     "name": "stdout",
     "output_type": "stream",
     "text": [
      "11\n"
     ]
    }
   ],
   "source": [
    "def count_word_in_file(filename):\n",
    "    with open(filename,'r') as file:\n",
    "        content=file.read()\n",
    "        word=content.split()\n",
    "        return len(word)\n",
    "print(count_word_in_file(\"document.txt\"))"
   ]
  },
  {
   "cell_type": "markdown",
   "id": "845da7c1",
   "metadata": {},
   "source": [
    "\n",
    "### Assignment 6: Finding and Replacing Text\n",
    "\n",
    "Write a function that finds and replaces all occurrences of a given word in a file named `data.txt` with another word.\n"
   ]
  },
  {
   "cell_type": "code",
   "execution_count": 16,
   "id": "de80b678",
   "metadata": {},
   "outputs": [],
   "source": [
    "def find_and_replace(filename,old_word,new_word):\n",
    "    with open(filename, 'r') as file:\n",
    "        text = file.read()\n",
    "    new_text = text.replace(old_word, new_word)\n",
    "    with open(filename, 'w') as file:\n",
    "        file.write(new_text)\n",
    "\n",
    "find_and_replace(\"data.txt\",\"anurag\",\"anuj\")"
   ]
  },
  {
   "cell_type": "markdown",
   "id": "85ad1787",
   "metadata": {},
   "source": [
    "\n",
    "### Assignment 7: Reading a File in Reverse\n",
    "\n",
    "Write a function that reads the contents of a file named `reverse.txt` and prints each line in reverse order.\n"
   ]
  },
  {
   "cell_type": "code",
   "execution_count": 18,
   "id": "9a44c6fb",
   "metadata": {},
   "outputs": [
    {
     "name": "stdout",
     "output_type": "stream",
     "text": [
      "welcome to the course\n",
      "my name is anurag patkar\n",
      "hello world\n"
     ]
    }
   ],
   "source": [
    "def read_file_in_reverse(filename):\n",
    "    with open(filename,'r') as file:\n",
    "        lines=file.readlines()\n",
    "    for line in reversed(lines):\n",
    "        print(line.strip())\n",
    "\n",
    "read_file_in_reverse(\"reverse.txt\")"
   ]
  },
  {
   "cell_type": "markdown",
   "id": "673eaf45",
   "metadata": {},
   "source": [
    "\n",
    "### Assignment 8: Counting Lines, Words, and Characters\n",
    "\n",
    "Write a function that reads the contents of a file named `stats.txt` and returns the number of lines, words, and characters in the file.\n"
   ]
  },
  {
   "cell_type": "code",
   "execution_count": 2,
   "id": "df90bd37",
   "metadata": {},
   "outputs": [
    {
     "data": {
      "text/plain": [
       "(1, 5, 24)"
      ]
     },
     "execution_count": 2,
     "metadata": {},
     "output_type": "execute_result"
    }
   ],
   "source": [
    "def count(filename):\n",
    "    with open(filename,'r') as file:\n",
    "        lines = file.readlines()\n",
    "        words = sum(len(line.split()) for line in lines)\n",
    "        characters = sum(len(line) for line in lines)\n",
    "    return len(lines), words, characters\n",
    "\n",
    "count(\"stats.txt\")"
   ]
  },
  {
   "cell_type": "markdown",
   "id": "451c60f8",
   "metadata": {},
   "source": [
    "\n",
    "### Assignment 9: Merging Multiple Files\n",
    "\n",
    "Write a function that merges the contents of multiple files into a single file named `merged.txt`.\n"
   ]
  },
  {
   "cell_type": "code",
   "execution_count": 7,
   "id": "bc47ee52",
   "metadata": {},
   "outputs": [],
   "source": [
    "def merge_files(file_list, output_file):\n",
    "    with open(output_file, 'w') as outfile:\n",
    "        for fname in file_list:\n",
    "            with open(fname, 'r') as infile:\n",
    "                outfile.write(infile.read() + '\\n')\n",
    "\n",
    "# Test\n",
    "merge_files(['sample.txt', 'data.txt'], 'merged.txt')"
   ]
  },
  {
   "cell_type": "markdown",
   "id": "2a3a8b18",
   "metadata": {},
   "source": [
    "\n",
    "### Assignment 10: Splitting a Large File\n",
    "\n",
    "Write a function that splits a large file named `large.txt` into smaller files of 100 lines each.\n"
   ]
  },
  {
   "cell_type": "code",
   "execution_count": null,
   "id": "a459b744",
   "metadata": {},
   "outputs": [],
   "source": [
    "def split_file(filename, lines_per_file):\n",
    "    with open(filename, 'r') as file:\n",
    "        lines = file.readlines()\n",
    "    for i in range(0, len(lines), lines_per_file):\n",
    "        with open(f'{filename}_part{i//lines_per_file + 1}.txt', 'w') as part_file:\n",
    "            part_file.writelines(lines[i:i + lines_per_file])\n",
    "\n",
    "# Test\n",
    "# split_file('large.txt', 100)"
   ]
  },
  {
   "cell_type": "markdown",
   "id": "373d7f1a",
   "metadata": {},
   "source": [
    "\n",
    "### Assignment 11: Creating a Log File\n",
    "\n",
    "Write a function that creates a log file named `activity.log` and writes log messages with timestamps.\n"
   ]
  },
  {
   "cell_type": "code",
   "execution_count": 9,
   "id": "79bd9fa2",
   "metadata": {},
   "outputs": [],
   "source": [
    "import datetime\n",
    "def create_log_file(message,filename='actcivity.log'):\n",
    "    timestamp=datetime.datetime.now().isoformat()\n",
    "    with open(filename,'a') as file:\n",
    "        file.write(f'[{timestamp}] {message}\\n')\n",
    "\n",
    "create_log_file(\"log in successful\")"
   ]
  },
  {
   "cell_type": "markdown",
   "id": "9fa49853",
   "metadata": {},
   "source": [
    "\n",
    "### Assignment 12: Binary File Operations\n",
    "\n",
    "Write a function that reads a binary file named `image.bin` and writes its contents to another binary file named `copy_image.bin`.\n"
   ]
  },
  {
   "cell_type": "code",
   "execution_count": null,
   "id": "cb31b09a",
   "metadata": {},
   "outputs": [],
   "source": [
    "def copy_binary_file(source,destination):\n",
    "    with open(source,'rb') as src:\n",
    "        with open(destination,'wb') as dest:\n",
    "            dest.write(src.read())\n",
    "\n",
    "#copy_binary_file('image.bin','copy_image.bin')"
   ]
  },
  {
   "cell_type": "markdown",
   "id": "272b678d",
   "metadata": {},
   "source": [
    "\n",
    "### Assignment 13: CSV File Operations\n",
    "\n",
    "Write a function that reads a CSV file named `data.csv` and prints its contents as a list of dictionaries.\n"
   ]
  },
  {
   "cell_type": "code",
   "execution_count": 11,
   "id": "efe80403",
   "metadata": {},
   "outputs": [],
   "source": [
    "import csv\n",
    "\n",
    "def read_csv(filename):\n",
    "    with open(filename,'r') as file:\n",
    "        reader = csv.DictReader(file)\n",
    "        return list(reader)\n",
    "\n",
    "#print(read_csv('data.csv'))"
   ]
  },
  {
   "cell_type": "markdown",
   "id": "9a83970b",
   "metadata": {},
   "source": [
    "\n",
    "### Assignment 14: JSON File Operations\n",
    "\n",
    "Write a function that reads a JSON file named `data.json` and prints its contents as a Python dictionary.\n"
   ]
  },
  {
   "cell_type": "code",
   "execution_count": null,
   "id": "1a223c0c",
   "metadata": {},
   "outputs": [],
   "source": [
    "import json\n",
    "\n",
    "def read_json_as_dict(filename):\n",
    "    with open(filename,'r'):\n",
    "        data=json.dump()\n",
    "        print(data)\n",
    "\n",
    "#print(read_json_as_dict('data.json'))\n",
    "\n"
   ]
  },
  {
   "cell_type": "markdown",
   "id": "2f00c627",
   "metadata": {},
   "source": [
    "\n",
    "\n",
    "\n",
    "### Assignment 15: File Permission Handling\n",
    "\n",
    "Write a function that attempts to read a file named `protected.txt` and handles any permission errors gracefully by printing an error message."
   ]
  },
  {
   "cell_type": "code",
   "execution_count": null,
   "metadata": {},
   "outputs": [],
   "source": [
    "def read_protected_file(filename):\n",
    "    try:\n",
    "        with open(filename,'r') as file:\n",
    "            data=file.read()\n",
    "            print(data)\n",
    "    except PermissionError as e:\n",
    "        print(f\"Permission Error:{e}\")\n",
    "\n",
    "#read_protected_file('protected.txt')"
   ]
  }
 ],
 "metadata": {
  "kernelspec": {
   "display_name": "Python 3",
   "language": "python",
   "name": "python3"
  },
  "language_info": {
   "codemirror_mode": {
    "name": "ipython",
    "version": 3
   },
   "file_extension": ".py",
   "mimetype": "text/x-python",
   "name": "python",
   "nbconvert_exporter": "python",
   "pygments_lexer": "ipython3",
   "version": "3.10.0"
  }
 },
 "nbformat": 4,
 "nbformat_minor": 5
}
